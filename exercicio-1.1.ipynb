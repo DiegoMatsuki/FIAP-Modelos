{
  "cells":[
    {
      "cell_type":"markdown",
      "source":[
        "# Exercício 1.1  \n",
        "Utilizando o arquivo papafrescaSimNao.csv que é um recorte de teste deste projeto, descubra algumas regras de associação relacionadas ao consumo de batata, procure a relação de regras relacionadas ao questionamento da batata engordar ou não.  \n",
        "\n",
        "Dica: Procure utilizar uma confiança acima de 50% e verifique a quantidade de regras geradas antes de inspeciona-las.  "
      ],
      "metadata":{
        
      }
    },
    {
      "cell_type":"code",
      "source":[
        "!pip install mlxtend\n",
        "\n",
        "import pandas as pd\n",
        "from mlxtend.preprocessing import TransactionEncoder\n",
        "from mlxtend.frequent_patterns import apriori\n",
        "from mlxtend.frequent_patterns import association_rules"
      ],
      "execution_count":1,
      "outputs":[
        {
          "name":"stdout",
          "text":[
            "Requirement already satisfied: mlxtend in \/opt\/anaconda3\/envs\/datalore-user\/lib\/python3.7\/site-packages (0.18.0)\r\n",
            "Requirement already satisfied: numpy>=1.16.2 in \/opt\/anaconda3\/envs\/datalore-user\/lib\/python3.7\/site-packages (from mlxtend) (1.19.2)\r\n",
            "Requirement already satisfied: setuptools in \/opt\/anaconda3\/envs\/datalore-user\/lib\/python3.7\/site-packages (from mlxtend) (49.6.0.post20201009)\r\n",
            "Requirement already satisfied: scikit-learn>=0.20.3 in \/opt\/anaconda3\/envs\/datalore-user\/lib\/python3.7\/site-packages (from mlxtend) (0.23.2)\r\n",
            "Requirement already satisfied: matplotlib>=3.0.0 in \/opt\/anaconda3\/envs\/datalore-user\/lib\/python3.7\/site-packages (from mlxtend) (3.3.2)\r\n",
            "Requirement already satisfied: scipy>=1.2.1 in \/opt\/anaconda3\/envs\/datalore-user\/lib\/python3.7\/site-packages (from mlxtend) (1.5.2)\r\n",
            "Requirement already satisfied: pandas>=0.24.2 in \/opt\/anaconda3\/envs\/datalore-user\/lib\/python3.7\/site-packages (from mlxtend) (1.1.3)\r\n",
            "Requirement already satisfied: joblib>=0.13.2 in \/opt\/anaconda3\/envs\/datalore-user\/lib\/python3.7\/site-packages (from mlxtend) (1.0.0)\r\n",
            "Requirement already satisfied: threadpoolctl>=2.0.0 in \/opt\/anaconda3\/envs\/datalore-user\/lib\/python3.7\/site-packages (from scikit-learn>=0.20.3->mlxtend) (2.1.0)\r\n",
            "Requirement already satisfied: pillow>=6.2.0 in \/opt\/anaconda3\/envs\/datalore-user\/lib\/python3.7\/site-packages (from matplotlib>=3.0.0->mlxtend) (8.0.1)\r\n",
            "Requirement already satisfied: pyparsing!=2.0.4,!=2.1.2,!=2.1.6,>=2.0.3 in \/opt\/anaconda3\/envs\/datalore-user\/lib\/python3.7\/site-packages (from matplotlib>=3.0.0->mlxtend) (2.4.7)\r\n",
            "Requirement already satisfied: cycler>=0.10 in \/opt\/anaconda3\/envs\/datalore-user\/lib\/python3.7\/site-packages (from matplotlib>=3.0.0->mlxtend) (0.10.0)\r\n",
            "Requirement already satisfied: certifi>=2020.06.20 in \/opt\/anaconda3\/envs\/datalore-user\/lib\/python3.7\/site-packages (from matplotlib>=3.0.0->mlxtend) (2020.12.5)\r\n",
            "Requirement already satisfied: kiwisolver>=1.0.1 in \/opt\/anaconda3\/envs\/datalore-user\/lib\/python3.7\/site-packages (from matplotlib>=3.0.0->mlxtend) (1.3.1)\r\n",
            "Requirement already satisfied: python-dateutil>=2.1 in \/opt\/anaconda3\/envs\/datalore-user\/lib\/python3.7\/site-packages (from matplotlib>=3.0.0->mlxtend) (2.8.1)\r\n",
            "Requirement already satisfied: pytz>=2017.2 in \/opt\/anaconda3\/envs\/datalore-user\/lib\/python3.7\/site-packages (from pandas>=0.24.2->mlxtend) (2020.4)\r\n",
            "Requirement already satisfied: six in \/opt\/anaconda3\/envs\/datalore-user\/lib\/python3.7\/site-packages (from cycler>=0.10->matplotlib>=3.0.0->mlxtend) (1.15.0)\r\n"
          ],
          "output_type":"stream"
        }
      ],
      "metadata":{
        
      }
    },
    {
      "cell_type":"code",
      "source":[
        "papas = pd.read_csv('bases\/papafrescaSimNao.csv', sep=';' , engine='python', error_bad_lines=False)\n",
        "\n",
        "papas.head()"
      ],
      "execution_count":2,
      "outputs":[
        {
          "data":{
            "text\/html":[
              "<div>\n",
              "<style scoped>\n",
              "    .dataframe tbody tr th:only-of-type {\n",
              "        vertical-align: middle;\n",
              "    }\n",
              "\n",
              "    .dataframe tbody tr th {\n",
              "        vertical-align: top;\n",
              "    }\n",
              "\n",
              "    .dataframe thead th {\n",
              "        text-align: right;\n",
              "    }\n",
              "<\/style>\n",
              "<table border=\"1\" class=\"dataframe\">\n",
              "  <thead>\n",
              "    <tr style=\"text-align: right;\">\n",
              "      <th><\/th>\n",
              "      <th>TV<\/th>\n",
              "      <th>RADIO<\/th>\n",
              "      <th>PRENSA<\/th>\n",
              "      <th>INTERNET<\/th>\n",
              "      <th>Lapapaessaludable<\/th>\n",
              "      <th>Lapapadaenergia<\/th>\n",
              "      <th>Lapapaengorda<\/th>\n",
              "      <th>Lapapaeseconomica<\/th>\n",
              "      <th>Vapor<\/th>\n",
              "      <th>Sopa<\/th>\n",
              "      <th>...<\/th>\n",
              "      <th>Salada<\/th>\n",
              "      <th>OtrasFormas<\/th>\n",
              "      <th>SOPAS<\/th>\n",
              "      <th>GRANOS<\/th>\n",
              "      <th>CARNE<\/th>\n",
              "      <th>HUEVOS<\/th>\n",
              "      <th>ARROZ<\/th>\n",
              "      <th>ENSALADA<\/th>\n",
              "      <th>NADAONINGUNO<\/th>\n",
              "      <th>OTROS<\/th>\n",
              "    <\/tr>\n",
              "  <\/thead>\n",
              "  <tbody>\n",
              "    <tr>\n",
              "      <th>0<\/th>\n",
              "      <td>Nao<\/td>\n",
              "      <td>Nao<\/td>\n",
              "      <td>Nao<\/td>\n",
              "      <td>Nao<\/td>\n",
              "      <td>Nao<\/td>\n",
              "      <td>Nao<\/td>\n",
              "      <td>Sim<\/td>\n",
              "      <td>Sim<\/td>\n",
              "      <td>Nao<\/td>\n",
              "      <td>Nao<\/td>\n",
              "      <td>...<\/td>\n",
              "      <td>Nao<\/td>\n",
              "      <td>Nao<\/td>\n",
              "      <td>Nao<\/td>\n",
              "      <td>Nao<\/td>\n",
              "      <td>Sim<\/td>\n",
              "      <td>Nao<\/td>\n",
              "      <td>Sim<\/td>\n",
              "      <td>Nao<\/td>\n",
              "      <td>Nao<\/td>\n",
              "      <td>Nao<\/td>\n",
              "    <\/tr>\n",
              "    <tr>\n",
              "      <th>1<\/th>\n",
              "      <td>Nao<\/td>\n",
              "      <td>Nao<\/td>\n",
              "      <td>Nao<\/td>\n",
              "      <td>Nao<\/td>\n",
              "      <td>Nao<\/td>\n",
              "      <td>Nao<\/td>\n",
              "      <td>Sim<\/td>\n",
              "      <td>Sim<\/td>\n",
              "      <td>Nao<\/td>\n",
              "      <td>Nao<\/td>\n",
              "      <td>...<\/td>\n",
              "      <td>Nao<\/td>\n",
              "      <td>Nao<\/td>\n",
              "      <td>Nao<\/td>\n",
              "      <td>Nao<\/td>\n",
              "      <td>Nao<\/td>\n",
              "      <td>Nao<\/td>\n",
              "      <td>Sim<\/td>\n",
              "      <td>Nao<\/td>\n",
              "      <td>Nao<\/td>\n",
              "      <td>Sim<\/td>\n",
              "    <\/tr>\n",
              "    <tr>\n",
              "      <th>2<\/th>\n",
              "      <td>Nao<\/td>\n",
              "      <td>Nao<\/td>\n",
              "      <td>Nao<\/td>\n",
              "      <td>Nao<\/td>\n",
              "      <td>Nao<\/td>\n",
              "      <td>Nao<\/td>\n",
              "      <td>Sim<\/td>\n",
              "      <td>Sim<\/td>\n",
              "      <td>Nao<\/td>\n",
              "      <td>Nao<\/td>\n",
              "      <td>...<\/td>\n",
              "      <td>Nao<\/td>\n",
              "      <td>Sim<\/td>\n",
              "      <td>Nao<\/td>\n",
              "      <td>Nao<\/td>\n",
              "      <td>Nao<\/td>\n",
              "      <td>Nao<\/td>\n",
              "      <td>Nao<\/td>\n",
              "      <td>Nao<\/td>\n",
              "      <td>Sim<\/td>\n",
              "      <td>Nao<\/td>\n",
              "    <\/tr>\n",
              "    <tr>\n",
              "      <th>3<\/th>\n",
              "      <td>Nao<\/td>\n",
              "      <td>Nao<\/td>\n",
              "      <td>Nao<\/td>\n",
              "      <td>Nao<\/td>\n",
              "      <td>Nao<\/td>\n",
              "      <td>Nao<\/td>\n",
              "      <td>Sim<\/td>\n",
              "      <td>Sim<\/td>\n",
              "      <td>Nao<\/td>\n",
              "      <td>Nao<\/td>\n",
              "      <td>...<\/td>\n",
              "      <td>Nao<\/td>\n",
              "      <td>Nao<\/td>\n",
              "      <td>Nao<\/td>\n",
              "      <td>Nao<\/td>\n",
              "      <td>Nao<\/td>\n",
              "      <td>Nao<\/td>\n",
              "      <td>Sim<\/td>\n",
              "      <td>Nao<\/td>\n",
              "      <td>Nao<\/td>\n",
              "      <td>Sim<\/td>\n",
              "    <\/tr>\n",
              "    <tr>\n",
              "      <th>4<\/th>\n",
              "      <td>Nao<\/td>\n",
              "      <td>Nao<\/td>\n",
              "      <td>Nao<\/td>\n",
              "      <td>Nao<\/td>\n",
              "      <td>Nao<\/td>\n",
              "      <td>Nao<\/td>\n",
              "      <td>Sim<\/td>\n",
              "      <td>Sim<\/td>\n",
              "      <td>Nao<\/td>\n",
              "      <td>Nao<\/td>\n",
              "      <td>...<\/td>\n",
              "      <td>Sim<\/td>\n",
              "      <td>Nao<\/td>\n",
              "      <td>Nao<\/td>\n",
              "      <td>Nao<\/td>\n",
              "      <td>Sim<\/td>\n",
              "      <td>Nao<\/td>\n",
              "      <td>Sim<\/td>\n",
              "      <td>Nao<\/td>\n",
              "      <td>Nao<\/td>\n",
              "      <td>Nao<\/td>\n",
              "    <\/tr>\n",
              "  <\/tbody>\n",
              "<\/table>\n",
              "<p>5 rows × 23 columns<\/p>\n",
              "<\/div>"
            ]
          },
          "metadata":{
            
          },
          "output_type":"display_data"
        }
      ],
      "metadata":{
        
      }
    },
    {
      "cell_type":"code",
      "source":[
        "#Obtêm a quatidade de linhas e colunas\n",
        "qtdlinhas = papas.shape[0]\n",
        "qtdcols = papas.shape[1]\n",
        "\n",
        "print(qtdlinhas)\n",
        "print(qtdcols)\n",
        "\n",
        "#Converte o dataset em uma lista de respostas positivas\n",
        "respostas = [] # batata engorda\n",
        "respostas_nao = [] # batata não engorda\n",
        "for l in range(0, qtdlinhas):\n",
        "    linha_transacao = []\n",
        "    linha_transacao_nao = []\n",
        "    for c in range(0, qtdcols):\n",
        "        if str(papas.columns[c]) == 'Lapapaengorda' and str(papas.values[l, c]) == 'Sim':\n",
        "            linha_transacao.append('Lapapaengorda')\n",
        "        elif str(papas.columns[c]) == 'Lapapaengorda' and str(papas.values[l, c]) == 'Nao':\n",
        "            linha_transacao_nao.append('Lapapanoengorda')\n",
        "        elif str(papas.values[l, c]) == 'Sim':\n",
        "            linha_transacao.append(str(papas.columns[c]))\n",
        "            linha_transacao_nao.append(str(papas.columns[c]))\n",
        "    respostas.append(linha_transacao)\n",
        "    respostas_nao.append(linha_transacao_nao)"
      ],
      "execution_count":3,
      "outputs":[
        {
          "name":"stdout",
          "text":[
            "20869\n",
            "23\n"
          ],
          "output_type":"stream"
        }
      ],
      "metadata":{
        
      }
    },
    {
      "cell_type":"code",
      "source":[
        "# função auxiliar para impressão das regras\n",
        "def print_row(row):\n",
        "    print(tuple(row['antecedents']), '->', tuple(row['consequents']))"
      ],
      "execution_count":4,
      "outputs":[
        
      ],
      "metadata":{
        
      }
    },
    {
      "cell_type":"markdown",
      "source":[
        "## Batata engorda ?"
      ],
      "metadata":{
        
      }
    },
    {
      "cell_type":"code",
      "source":[
        "# TransactionEncoder faz a conversão das transações em uma matriz binária onde cada linha da matriz representa uma transação\n",
        "te = TransactionEncoder()\n",
        "matriz_respostas = te.fit_transform(respostas)\n",
        "print(te.columns_, '\\n')\n",
        "\n",
        "#Cria um dataframe auxiliar com a matriz binária (passo te.transform(transacoes)) de transações e as colunas obtidas (passo te.fit(transacoes))\n",
        "dfAuxiliar = pd.DataFrame(matriz_respostas, columns=te.columns_)\n",
        "\n",
        "#Obtêm os itemsets mais frequentes com um suporte mínimo igual a 0.01.\n",
        "itemsets_freq = apriori(dfAuxiliar, min_support=0.01, use_colnames=True)\n",
        "\n",
        "#Obtêm as regras de associação a partir dos itemsets mais frequêntes\n",
        "regras = association_rules(itemsets_freq, metric=\"confidence\", min_threshold=0.5)\n",
        "\n",
        "print('Foram encontradas',regras.shape[0], 'regras.\\n')\n",
        "\n",
        "#Ordena as Regras por confiança\n",
        "regras_ordenadas = regras.sort_values(['confidence','support'], ascending=False)\n",
        "\n",
        "#mantém apenas as colunas que vamos utilizar \n",
        "regras_ordenadas = regras_ordenadas[['antecedents', 'consequents', 'support', 'confidence']]\n",
        "print(regras_ordenadas)"
      ],
      "execution_count":5,
      "outputs":[
        {
          "name":"stdout",
          "text":[
            "['ARROZ', 'CARNE', 'ENSALADA', 'Fritas', 'GRANOS', 'HUEVOS', 'INTERNET', 'Lapapadaenergia', 'Lapapaengorda', 'Lapapaeseconomica', 'Lapapaessaludable', 'NADAONINGUNO', 'OTROS', 'OtrasFormas', 'PRENSA', 'Pure', 'RADIO', 'SOPAS', 'Salada', 'Sopa', 'Sudada', 'TV', 'Vapor'] \n",
            "\n",
            "Foram encontradas 2312 regras.\n",
            "\n",
            "                                            antecedents  \\\n",
            "321                    (Lapapaengorda, Lapapadaenergia)   \n",
            "1014  (Lapapaeseconomica, Lapapaengorda, Lapapadaene...   \n",
            "853             (CARNE, Lapapaengorda, Lapapadaenergia)   \n",
            "678             (ARROZ, Lapapaengorda, Lapapadaenergia)   \n",
            "1479  (Lapapaeseconomica, ARROZ, Lapapaengorda, Lapa...   \n",
            "...                                                 ...   \n",
            "1144   (CARNE, ARROZ, Lapapaengorda, Lapapaessaludable)   \n",
            "980                                      (ENSALADA, TV)   \n",
            "1957  (ARROZ, Lapapadaenergia, CARNE, Lapapaeseconom...   \n",
            "1968  (Lapapaessaludable, Lapapaeseconomica, Lapapad...   \n",
            "2160                (Sopa, Lapapaessaludable, ENSALADA)   \n",
            "\n",
            "                                 consequents   support  confidence  \n",
            "321                                     (TV)  0.042216    1.000000  \n",
            "1014                                    (TV)  0.031770    1.000000  \n",
            "853                                     (TV)  0.025157    1.000000  \n",
            "678                                     (TV)  0.024726    1.000000  \n",
            "1479                                    (TV)  0.019359    1.000000  \n",
            "...                                      ...       ...         ...  \n",
            "1144                              (ENSALADA)  0.020940    0.500573  \n",
            "980   (Lapapaessaludable, Lapapaeseconomica)  0.048541    0.500494  \n",
            "1957                     (Lapapaessaludable)  0.019551    0.500000  \n",
            "1968                      (CARNE, ARROZ, TV)  0.019551    0.500000  \n",
            "2160          (CARNE, Lapapaeseconomica, TV)  0.017059    0.500000  \n",
            "\n",
            "[2312 rows x 4 columns]\n"
          ],
          "output_type":"stream"
        }
      ],
      "metadata":{
        
      }
    },
    {
      "cell_type":"code",
      "source":[
        "subset_engorda = {'Lapapaengorda'}\n",
        "regras_engorda =  regras_ordenadas[  regras_ordenadas['consequents'].apply(lambda x: subset_engorda.issubset(x))]\n",
        "\n",
        "print(\"Quantidade de regras contendo que batata engorda:\", regras_engorda.shape[0])\n",
        "print(\"\\nAs com maior cofiança e suporte são:\")\n",
        "for i in range(0, regras_engorda.shape[0]):\n",
        "    print_row(regras_engorda.iloc[i])"
      ],
      "execution_count":9,
      "outputs":[
        {
          "name":"stdout",
          "text":[
            "Quantidade de regras contendo que batata engorda: 23\n",
            "\n",
            "As com maior cofiança e suporte são:\n",
            "('RADIO', 'Lapapaessaludable') -> ('Lapapaengorda',)\n",
            "('RADIO',) -> ('Lapapaengorda',)\n",
            "('RADIO',) -> ('Lapapaessaludable', 'Lapapaengorda')\n",
            "('ARROZ', 'Sopa', 'CARNE', 'Lapapaessaludable', 'ENSALADA', 'TV') -> ('Lapapaengorda',)\n",
            "('ARROZ', 'Sopa', 'CARNE', 'Lapapaessaludable', 'ENSALADA') -> ('Lapapaengorda',)\n",
            "('Sopa', 'CARNE', 'Lapapaessaludable', 'ENSALADA', 'Lapapaeseconomica') -> ('Lapapaengorda',)\n",
            "('Sopa', 'CARNE', 'Lapapaessaludable', 'ENSALADA', 'TV') -> ('Lapapaengorda',)\n",
            "('ARROZ', 'Sopa', 'Lapapaessaludable', 'ENSALADA', 'Lapapaeseconomica', 'TV') -> ('Lapapaengorda',)\n",
            "('Sopa', 'CARNE', 'ENSALADA', 'Lapapaessaludable') -> ('Lapapaengorda',)\n",
            "('Sopa', 'Lapapaessaludable', 'ENSALADA', 'Lapapaeseconomica', 'TV') -> ('Lapapaengorda',)\n",
            "('ARROZ', 'Sopa', 'CARNE', 'Lapapaessaludable', 'ENSALADA') -> ('TV', 'Lapapaengorda')\n",
            "('Sopa', 'Lapapaessaludable', 'Lapapaeseconomica', 'ENSALADA') -> ('Lapapaengorda',)\n",
            "('ARROZ', 'Sopa', 'Lapapaessaludable', 'ENSALADA', 'Lapapaeseconomica') -> ('Lapapaengorda',)\n",
            "('Sopa', 'CARNE', 'Lapapaessaludable', 'ENSALADA', 'TV') -> ('ARROZ', 'Lapapaengorda')\n",
            "('ARROZ', 'Sopa', 'Lapapaessaludable', 'ENSALADA', 'TV') -> ('Lapapaengorda',)\n",
            "('Sopa', 'CARNE', 'ENSALADA', 'Lapapaessaludable') -> ('ARROZ', 'Lapapaengorda')\n",
            "('NADAONINGUNO',) -> ('Lapapaengorda',)\n",
            "('Sopa', 'CARNE', 'ARROZ', 'ENSALADA') -> ('Lapapaengorda',)\n",
            "('Sopa', 'CARNE', 'ENSALADA', 'Lapapaessaludable') -> ('TV', 'Lapapaengorda')\n",
            "('Sopa', 'Lapapaessaludable', 'ARROZ', 'ENSALADA') -> ('Lapapaengorda',)\n",
            "('Sopa', 'Lapapaessaludable', 'ENSALADA', 'TV') -> ('Lapapaengorda',)\n",
            "('Sopa', 'CARNE', 'ENSALADA') -> ('Lapapaengorda',)\n",
            "('Sopa', 'Lapapaessaludable', 'ENSALADA') -> ('Lapapaengorda',)\n"
          ],
          "output_type":"stream"
        }
      ],
      "metadata":{
        
      }
    },
    {
      "cell_type":"markdown",
      "source":[
        "## Batata não engorda?"
      ],
      "metadata":{
        
      }
    },
    {
      "cell_type":"code",
      "source":[
        "# Analisando os dados para encontrarmos regras referentes a batata não engordar\n",
        "\n",
        "# TransactionEncoder faz a conversão das transações em uma matriz binária onde cada linha da matriz representa uma transação\n",
        "te2 = TransactionEncoder()\n",
        "matriz_respostas_nao = te2.fit_transform(respostas_nao)\n",
        "print(te2.columns_, '\\n')\n",
        "\n",
        "#Cria um dataframe auxiliar com a matriz binária (passo te.transform(transacoes)) de transações e as colunas obtidas (passo te.fit(transacoes))\n",
        "dfAuxiliar2 = pd.DataFrame(matriz_respostas_nao, columns=te2.columns_)\n",
        "\n",
        "#Obtêm os itemsets mais frequentes com um suporte mínimo igual a 0.05.\n",
        "itemsets2_freq = apriori(dfAuxiliar2, min_support=0.09, use_colnames=True)\n",
        "\n",
        "#Obtêm as regras de associação a partir dos itemsets mais frequêntes\n",
        "regras2 = association_rules(itemsets2_freq, metric=\"confidence\", min_threshold=0.5)\n",
        "\n",
        "print('Foram encontradas',regras.shape[0], 'regras.\\n')\n",
        "\n",
        "#Ordena as Regras por confiança\n",
        "regras2_ordenadas = regras2.sort_values(['confidence','support'], ascending=False)\n",
        "\n",
        "#mantém apenas as colunas que vamos utilizar \n",
        "regras2_ordenadas = regras2_ordenadas[['antecedents', 'consequents', 'support', 'confidence']]\n",
        "print(regras2_ordenadas)"
      ],
      "execution_count":13,
      "outputs":[
        {
          "name":"stdout",
          "text":[
            "['ARROZ', 'CARNE', 'ENSALADA', 'Fritas', 'GRANOS', 'HUEVOS', 'INTERNET', 'Lapapadaenergia', 'Lapapaeseconomica', 'Lapapaessaludable', 'Lapapanoengorda', 'NADAONINGUNO', 'OTROS', 'OtrasFormas', 'PRENSA', 'Pure', 'RADIO', 'SOPAS', 'Salada', 'Sopa', 'Sudada', 'TV', 'Vapor'] \n",
            "\n",
            "Foram encontradas 2312 regras.\n",
            "\n",
            "                                antecedents  \\\n",
            "28                        (Lapapadaenergia)   \n",
            "110    (Lapapaeseconomica, Lapapadaenergia)   \n",
            "101              (CARNE, Lapapaessaludable)   \n",
            "152       (CARNE, ARROZ, Lapapaessaludable)   \n",
            "130               (Sopa, Lapapaessaludable)   \n",
            "..                                      ...   \n",
            "180    (Lapapaessaludable, Lapapanoengorda)   \n",
            "87                        (CARNE, ENSALADA)   \n",
            "49                                  (CARNE)   \n",
            "167  (Lapapaessaludable, Lapapaeseconomica)   \n",
            "185                             (CARNE, TV)   \n",
            "\n",
            "                                consequents   support  confidence  \n",
            "28                                     (TV)  0.120130    0.970201  \n",
            "110                                    (TV)  0.092146    0.965846  \n",
            "101                                    (TV)  0.150031    0.955739  \n",
            "152                                    (TV)  0.099142    0.953017  \n",
            "130                                    (TV)  0.108103    0.950295  \n",
            "..                                      ...       ...         ...  \n",
            "180                             (ARROZ, TV)  0.090277    0.524645  \n",
            "87                        (Lapapanoengorda)  0.090277    0.523915  \n",
            "49               (Lapapaeseconomica, ARROZ)  0.289664    0.521705  \n",
            "167                             (ARROZ, TV)  0.107528    0.518245  \n",
            "185  (Lapapaessaludable, Lapapaeseconomica)  0.112368    0.517089  \n",
            "\n",
            "[200 rows x 4 columns]\n"
          ],
          "output_type":"stream"
        }
      ],
      "metadata":{
        
      }
    },
    {
      "cell_type":"code",
      "source":[
        "subset_noengorda = {'Lapapanoengorda'}\n",
        "regras_noengorda =  regras2_ordenadas[  regras2_ordenadas['consequents'].apply(lambda x: subset_noengorda.issubset(x))]\n",
        "\n",
        "print(\"Quantidade de regras contendo que batata não engorda:\", regras_noengorda.shape[0])\n",
        "print(\"\\nAs com maior cofiança e suporte são:\")\n",
        "for i in range(0, regras_noengorda.shape[0]):\n",
        "    print_row(regras_noengorda.iloc[i])"
      ],
      "execution_count":14,
      "outputs":[
        {
          "name":"stdout",
          "text":[
            "Quantidade de regras contendo que batata não engorda: 40\n",
            "\n",
            "As com maior cofiança e suporte são:\n",
            "('Lapapaeseconomica', 'ARROZ', 'TV') -> ('Lapapanoengorda',)\n",
            "('CARNE', 'Lapapaeseconomica', 'TV') -> ('Lapapanoengorda',)\n",
            "('Lapapaeseconomica', 'TV') -> ('Lapapanoengorda',)\n",
            "('CARNE', 'ARROZ', 'TV') -> ('Lapapanoengorda',)\n",
            "('Lapapaessaludable',) -> ('Lapapanoengorda',)\n",
            "('ARROZ', 'TV') -> ('Lapapanoengorda',)\n",
            "('Lapapaessaludable', 'Lapapaeseconomica') -> ('Lapapanoengorda',)\n",
            "('TV',) -> ('Lapapanoengorda',)\n",
            "('CARNE', 'TV') -> ('Lapapanoengorda',)\n",
            "('OTROS', 'Lapapaeseconomica') -> ('Lapapanoengorda',)\n",
            "('Lapapaessaludable', 'TV') -> ('Lapapanoengorda',)\n",
            "('Lapapaessaludable', 'ARROZ') -> ('Lapapanoengorda',)\n",
            "('CARNE', 'Lapapaessaludable') -> ('Lapapanoengorda',)\n",
            "('Lapapaessaludable', 'Lapapaeseconomica', 'TV') -> ('Lapapanoengorda',)\n",
            "('OTROS',) -> ('Lapapanoengorda',)\n",
            "('Lapapaessaludable', 'ARROZ', 'TV') -> ('Lapapanoengorda',)\n",
            "('CARNE', 'Lapapaeseconomica') -> ('Lapapanoengorda',)\n",
            "('Sopa', 'TV') -> ('Lapapanoengorda',)\n",
            "('Lapapaeseconomica',) -> ('Lapapanoengorda',)\n",
            "('Sudada',) -> ('Lapapanoengorda',)\n",
            "('CARNE', 'Lapapaeseconomica', 'ARROZ') -> ('Lapapanoengorda',)\n",
            "('Fritas',) -> ('Lapapanoengorda',)\n",
            "('Lapapaeseconomica', 'ARROZ') -> ('Lapapanoengorda',)\n",
            "('Sopa', 'CARNE', 'Lapapaeseconomica') -> ('Lapapanoengorda',)\n",
            "('CARNE',) -> ('Lapapanoengorda',)\n",
            "('Lapapaessaludable',) -> ('TV', 'Lapapanoengorda')\n",
            "('Lapapaeseconomica', 'ENSALADA') -> ('Lapapanoengorda',)\n",
            "('Sopa', 'Lapapaeseconomica', 'ARROZ') -> ('Lapapanoengorda',)\n",
            "('Sopa', 'Lapapaeseconomica') -> ('Lapapanoengorda',)\n",
            "('Lapapaessaludable', 'ARROZ') -> ('TV', 'Lapapanoengorda')\n",
            "('Sopa', 'ARROZ') -> ('Lapapanoengorda',)\n",
            "('ARROZ',) -> ('Lapapanoengorda',)\n",
            "('CARNE', 'ARROZ') -> ('Lapapanoengorda',)\n",
            "('Sopa', 'CARNE') -> ('Lapapanoengorda',)\n",
            "('Lapapaessaludable', 'Lapapaeseconomica') -> ('TV', 'Lapapanoengorda')\n",
            "('Sopa',) -> ('Lapapanoengorda',)\n",
            "('ENSALADA',) -> ('Lapapanoengorda',)\n",
            "('Sopa', 'CARNE', 'ARROZ') -> ('Lapapanoengorda',)\n",
            "('ARROZ', 'ENSALADA') -> ('Lapapanoengorda',)\n",
            "('CARNE', 'ENSALADA') -> ('Lapapanoengorda',)\n"
          ],
          "output_type":"stream"
        }
      ],
      "metadata":{
        
      }
    },
    {
      "cell_type":"markdown",
      "source":[
        "## Conclusões \n",
        "\n",
        "A partir da análise do estudo com as pessoas que responderam que batata engorda: \n",
        " - Mais pessoas acreditam que batata é um alimento saudável, enquanto poucos acreditam ser econômico\n",
        " - Preferem assistir a TV e Rádio\n",
        " - A order de preferência ao consumir batatas como salada, como sopa, com carne e com arroz\n",
        "\n",
        "A partir da análise do estudo com as pessoas que responderam que batata não engorda: \n",
        " - Mais pessoas acreditam que batata é um alimento econômico e menos acreditam ser saudável.\n",
        " - Preferem assistir a TV\n",
        " - A order de preferência ao consumir batatas com arroz, com carne e como sopa."
      ],
      "metadata":{
        
      }
    }
  ],
  "metadata":{
    
  },
  "nbformat":4,
  "nbformat_minor":0
}